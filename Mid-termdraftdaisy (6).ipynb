{
 "cells": [
  {
   "cell_type": "markdown",
   "id": "a7f4fc55-8ff2-4201-9e80-8eab1bdbc2f3",
   "metadata": {},
   "source": [
    "\n",
    "# Upload and read the datasets\n",
    "We merge two data geocoded dataset and evictions dataset. \n",
    "We also merge LA coutry zip geojson dataset with eviction dataset "
   ]
  },
  {
   "cell_type": "code",
   "execution_count": null,
   "id": "bef50d14-990c-49d8-ba4f-c286a3f0e3c2",
   "metadata": {},
   "outputs": [],
   "source": [
    "#Import libraries\n",
    "import geopandas as gpd\n",
    "import matplotlib.pyplot as plt\n",
    "import pandas as pd\n",
    "import numpy as np\n",
    "import matplotlib\n",
    "import matplotlib.pyplot as plt\n",
    "plt.style.use('fivethirtyeight')\n",
    "%matplotlib inline\n",
    "import matplotlib.pyplot as plt\n",
    "import seaborn as sns\n",
    "import plotly.express as px\n",
    "import plotly.graph_objects as go\n",
    "import plotly.figure_factory as ff\n",
    "from plotly.subplots import make_subplots\n",
    "import statsmodels.api as sm\n",
    "sns.set()\n",
    "\n",
    "import warnings # supress warnings\n",
    "warnings.filterwarnings('ignore')\n",
    "#import geodatasets"
   ]
  },
  {
   "cell_type": "markdown",
   "id": "f588c7ed-ebba-406e-bb7f-52030c220498",
   "metadata": {},
   "source": [
    "## Upload 2023_Eviction_Notices file and evictions geocoded file\n",
    "Read the datasets to understand the columns and rows"
   ]
  },
  {
   "cell_type": "code",
   "execution_count": null,
   "id": "5a016fc6-969f-4996-b52d-9584a18530a0",
   "metadata": {
    "scrolled": true
   },
   "outputs": [],
   "source": [
    "# Load the datasets using pandas 77091 rows × 12 columns\n",
    "df_evictions = pd.read_csv('data/2023_Eviction_Notices.csv')\n",
    "df_evictions.head(5)"
   ]
  },
  {
   "cell_type": "code",
   "execution_count": null,
   "id": "959a9761-a6dd-4d1d-b209-7fa7aee467fc",
   "metadata": {},
   "outputs": [],
   "source": [
    "df_geocoded = pd.read_csv('data/evictions_geocoded.csv')\n",
    "df_geocoded.head(5)"
   ]
  },
  {
   "cell_type": "markdown",
   "id": "1505009f-685e-41e3-9d30-facb0aae92e3",
   "metadata": {},
   "source": [
    "## We add geometry to df_geocoded using the following code "
   ]
  },
  {
   "cell_type": "code",
   "execution_count": null,
   "id": "0b7981ed-dfbb-45e8-9ce4-164082a2ec77",
   "metadata": {},
   "outputs": [],
   "source": [
    "import geopandas as gpd\n",
    "from shapely.geometry import Point\n",
    "\n",
    "# Assuming your DataFrame is named df_geocoded\n",
    "geometry = [Point(lon, lat) for lon, lat in zip(df_geocoded['longitude'], df_geocoded['latitude'])]\n",
    "\n",
    "# Create a GeoDataFrame with the geometry column\n",
    "df_geocoded['geometry'] = geometry\n",
    "df_geocoded_gdf = gpd.GeoDataFrame(df_geocoded, geometry='geometry')\n",
    "\n",
    "df_geocoded_gdf.head(5)"
   ]
  },
  {
   "cell_type": "code",
   "execution_count": null,
   "id": "4f37ff9e-c794-43df-af59-74d632b615a2",
   "metadata": {},
   "outputs": [],
   "source": [
    "# Check for null values in the entire DataFrame\n",
    "null_values = df_geocoded.isnull().sum()\n",
    "\n",
    "# Display the results\n",
    "print(\"Null values in the entire DataFrame:\")\n",
    "print(null_values)"
   ]
  },
  {
   "cell_type": "code",
   "execution_count": null,
   "id": "f73ba2dc-4f4e-4387-8274-c13f22e484da",
   "metadata": {},
   "outputs": [],
   "source": [
    "# Check for null values in the entire DataFrame\n",
    "null_values = df_evictions.isnull().sum()\n",
    "\n",
    "# Display the results\n",
    "print(\"Null values in the entire DataFrame:\")\n",
    "print(null_values)"
   ]
  },
  {
   "cell_type": "code",
   "execution_count": null,
   "id": "36a2c25b-3d6f-4336-9cf1-30750dc6d502",
   "metadata": {},
   "outputs": [],
   "source": [
    "# Check data types\n",
    "print(df_evictions.dtypes)\n",
    "print(df_geocoded.dtypes)"
   ]
  },
  {
   "cell_type": "code",
   "execution_count": null,
   "id": "b38c5fd5-d125-4d31-bab0-4c2ccac8d739",
   "metadata": {},
   "outputs": [],
   "source": [
    "# Check unique values\n",
    "print(df_evictions['City'].unique())\n",
    "print(df_evictions['Zip'].unique())"
   ]
  },
  {
   "cell_type": "code",
   "execution_count": null,
   "id": "94526a1a-1bfa-4591-98ce-8957224eb85b",
   "metadata": {},
   "outputs": [],
   "source": [
    "print(df_geocoded['latitude'].unique())\n",
    "print(df_geocoded['longitude'].unique())"
   ]
  },
  {
   "cell_type": "markdown",
   "id": "7eed88bb-114a-421c-a30f-e4db5cb244df",
   "metadata": {},
   "source": [
    "## We load df2_geocoded with LA county zip codes\n",
    "This file has zipcodes and geometry "
   ]
  },
  {
   "cell_type": "code",
   "execution_count": null,
   "id": "f02be2f3-8c3d-4dde-8679-66a5b02e4f9b",
   "metadata": {},
   "outputs": [],
   "source": [
    "df2_geocoded = gpd.read_file('LA_County_ZIP_Codes.geojson')\n",
    "df2_geocoded.head(5)"
   ]
  },
  {
   "cell_type": "code",
   "execution_count": null,
   "id": "0b8b17b5-3310-4239-b186-05c91365a3d7",
   "metadata": {},
   "outputs": [],
   "source": [
    "print(df2_geocoded[['ZIPCODE', 'geometry']])"
   ]
  },
  {
   "cell_type": "markdown",
   "id": "5b570ff5-aed3-47cd-af42-065654fbbd77",
   "metadata": {},
   "source": [
    "We rename column ZIPCODE to Zip in df2_geocoded "
   ]
  },
  {
   "cell_type": "code",
   "execution_count": null,
   "id": "afaf687b-e1c0-4f9a-a674-1fc3965a8f7c",
   "metadata": {},
   "outputs": [],
   "source": [
    "df2_geocoded = df2_geocoded.rename(columns={'ZIPCODE': 'Zip'})\n",
    "df2_geocoded.head(5) "
   ]
  },
  {
   "cell_type": "code",
   "execution_count": null,
   "id": "c2df3938-5117-46a5-8123-3b2cef175d95",
   "metadata": {},
   "outputs": [],
   "source": [
    "# plot it!\n",
    "df2_geocoded.plot(figsize=(12,10))"
   ]
  },
  {
   "cell_type": "markdown",
   "id": "4572a0f3-1124-4774-b3bc-eb6050927ba6",
   "metadata": {},
   "source": [
    "## Merge the dataset df evictions and df2 geocoded "
   ]
  },
  {
   "cell_type": "code",
   "execution_count": null,
   "id": "948e0a52-7f6c-45d1-b4f9-7ce2db1f1307",
   "metadata": {},
   "outputs": [],
   "source": [
    "import pandas as pd\n",
    "import geopandas as gpd\n",
    "\n",
    "# Convert 'Zip' column to object type in both DataFrames\n",
    "df_evictions['Zip'] = df_evictions['Zip'].astype(str)\n",
    "df2_geocoded['Zip'] = df2_geocoded['Zip'].astype(str)\n",
    "\n",
    "# Rename 'ZIPCODE' to 'Zip' in df2_geocoded\n",
    "df2_geocoded = df2_geocoded.rename(columns={'ZIPCODE': 'Zip'})\n",
    "\n",
    "# Merge based on the 'Zip' column\n",
    "merged_df2 = pd.merge(df_evictions, df2_geocoded, how='left', on='Zip')\n",
    "\n",
    "merged_df2.head(5)\n",
    "\n",
    "# Print the merged dataset\n",
    "#print(merged_df2)\n"
   ]
  },
  {
   "cell_type": "markdown",
   "id": "ea5d1f45-c98e-4f7b-becf-4b0b1b45ff72",
   "metadata": {},
   "source": [
    "## We show our folium map based on zip codes\n",
    "LA zip code 90028 has a darker shade showing highest eviction counts recorded"
   ]
  },
  {
   "cell_type": "code",
   "execution_count": null,
   "id": "4671b6dc-df99-4fe4-9e34-f320a468d985",
   "metadata": {},
   "outputs": [],
   "source": [
    "import folium\n",
    "from folium import Choropleth, GeoJson\n",
    "import geopandas as gpd\n",
    "from shapely.geometry import Point\n",
    "\n",
    "#We merge 'df2_geocoded' and 'merged_df2' with 'geometry' column\n",
    "\n",
    "# Drop rows with NaN values in the 'Zip' column\n",
    "df2_geocoded = df2_geocoded.dropna(subset=['Zip'])\n",
    "\n",
    "# Create a Folium map\n",
    "m = folium.Map(location=[34.2, -118.2], zoom_start=10, tiles='CartoDB positron', attribution='CartoDB')\n",
    "\n",
    "# Calculate value counts for each Zip code\n",
    "eviction_counts = merged_df2['Zip'].value_counts().reset_index()\n",
    "eviction_counts.columns = ['Zip', 'Eviction_Count']\n",
    "\n",
    "# Plot choropleth over the base map\n",
    "Choropleth(\n",
    "    geo_data=df2_geocoded,\n",
    "    data=eviction_counts,\n",
    "    key_on='feature.properties.Zip',\n",
    "    columns=['Zip', 'Eviction_Count'],\n",
    "    fill_color='YlGnBu',\n",
    "    line_weight=0.1,\n",
    "    fill_opacity=0.8,\n",
    "    line_opacity=0.2,\n",
    "    legend_name='Eviction Counts (2023)',\n",
    "    highlight=True\n",
    ").add_to(m)\n",
    "\n",
    "# Add boundary color to each feature\n",
    "GeoJson(\n",
    "   df2_geocoded,\n",
    "    style_function=lambda feature: {\n",
    "        'color': 'red',\n",
    "        'weight': 1,\n",
    "        'fillOpacity': 0\n",
    "    },\n",
    "    tooltip=folium.features.GeoJsonTooltip(fields=['Zip'], labels=False),\n",
    "    popup=folium.features.GeoJsonPopup(fields=['Zip'], labels=False),\n",
    ").add_to(m)\n",
    "\n",
    "# Display the map\n",
    "m\n"
   ]
  },
  {
   "cell_type": "markdown",
   "id": "b0b0a07c-8f55-47b1-b186-fb45477f9523",
   "metadata": {},
   "source": [
    "# Merge two datasets \n",
    "We merge the two datasets 2023_Eviction_Notices.csv and evictions_geocoded.csv "
   ]
  },
  {
   "cell_type": "code",
   "execution_count": null,
   "id": "9b5f4978-775f-441a-a74b-57aff8150b94",
   "metadata": {},
   "outputs": [],
   "source": [
    "# Extracting the name from the input_string \n",
    "df_geocoded['Name'] = df_geocoded['input_string'].apply(lambda x: x.split(',')[0].strip())"
   ]
  },
  {
   "cell_type": "code",
   "execution_count": null,
   "id": "62103713-2731-4bf0-b89d-d11103078e83",
   "metadata": {},
   "outputs": [],
   "source": [
    "df_geocoded.iloc[0]['Name']"
   ]
  },
  {
   "cell_type": "code",
   "execution_count": null,
   "id": "3db8ebd1-d3ad-458e-9c64-50ff4d2c846c",
   "metadata": {},
   "outputs": [],
   "source": [
    "df_evictions.iloc[0]['Address']"
   ]
  },
  {
   "cell_type": "code",
   "execution_count": null,
   "id": "61593b10-1f69-4e17-a2a1-84afa8e643b7",
   "metadata": {},
   "outputs": [],
   "source": [
    "# Drop duplicates based on 'Name' column in df_geocoded\n",
    "df_geocoded_unique = df_geocoded.drop_duplicates(subset='Name', keep='first')\n",
    "\n",
    "# Merging on the 'Name' column with the first occurrence\n",
    "merged_df = pd.merge(df_geocoded_unique, df_evictions, left_on='Name', right_on='Address', how='inner')"
   ]
  },
  {
   "cell_type": "code",
   "execution_count": null,
   "id": "63e3e62a-5af9-4ccc-9fc3-ac3117ee7916",
   "metadata": {},
   "outputs": [],
   "source": [
    "merged_df.columns"
   ]
  },
  {
   "cell_type": "code",
   "execution_count": null,
   "id": "d1371bc9-e7f2-4e10-a3cb-4898dab70534",
   "metadata": {},
   "outputs": [],
   "source": [
    "#Values of eviction numbers for each city \n",
    "merged_df['City'].value_counts()"
   ]
  },
  {
   "cell_type": "code",
   "execution_count": null,
   "id": "765cb856-4d9d-4ed8-a31b-53dca8814388",
   "metadata": {},
   "outputs": [],
   "source": [
    "merged_df['Name'].value_counts()"
   ]
  },
  {
   "cell_type": "code",
   "execution_count": null,
   "id": "488b18c2-3903-48e2-85c3-f1f234cc56be",
   "metadata": {},
   "outputs": [],
   "source": [
    "merged_df['Address'].value_counts()"
   ]
  },
  {
   "cell_type": "code",
   "execution_count": null,
   "id": "6edf6777-a592-44ab-9e3e-b9a30faf82dd",
   "metadata": {},
   "outputs": [],
   "source": [
    "df_geocoded_gdf = df_geocoded_gdf.rename(columns={'postcode': 'Zip', 'formatted_address': 'Address'})"
   ]
  },
  {
   "cell_type": "code",
   "execution_count": null,
   "id": "7b5b3188-1828-42f0-ac26-448cdbce6d04",
   "metadata": {},
   "outputs": [],
   "source": [
    "# We also add geometry to the table \n",
    "df_geocoded_gdf.head()"
   ]
  },
  {
   "cell_type": "markdown",
   "id": "0a07b7ac-e93c-4b54-9080-b8bb05ed4758",
   "metadata": {},
   "source": [
    "## We test dataset with the census tract 2020 geojson"
   ]
  },
  {
   "cell_type": "code",
   "execution_count": null,
   "id": "627c4283-5253-41f5-9d3d-74bb82b0fea7",
   "metadata": {},
   "outputs": [],
   "source": [
    "# read in a geojson file downloaded from the LA Times we create new geoframe\n",
    "#we read the census_tracts geojson file\n",
    "tracts=gpd.read_file('data/Census_Tracts_2020.geojson')\n",
    "tracts.head()"
   ]
  },
  {
   "cell_type": "code",
   "execution_count": null,
   "id": "599a8f87-1280-4200-b3e9-6ad16fa64a04",
   "metadata": {},
   "outputs": [],
   "source": [
    "# create a FIPS column\n",
    "tracts['FIPS'] ='06' + '037' + tracts['CT20']"
   ]
  },
  {
   "cell_type": "code",
   "execution_count": null,
   "id": "a07d6b17-1a9a-4d4f-9859-e64c0c58c91f",
   "metadata": {},
   "outputs": [],
   "source": [
    "# check it!\n",
    "tracts.head()"
   ]
  },
  {
   "cell_type": "code",
   "execution_count": null,
   "id": "2fca0781-43f5-40ee-ac6d-55d5ba1cf25f",
   "metadata": {},
   "outputs": [],
   "source": [
    "# plot it!\n",
    "tracts.plot(figsize=(12,10))"
   ]
  },
  {
   "cell_type": "code",
   "execution_count": null,
   "id": "e94699d9-054d-4ff2-9bd8-867a6060c01a",
   "metadata": {},
   "outputs": [],
   "source": [
    "# We merge the merged_df and tracts dataset\n",
    "import pandas as pd\n",
    "import geopandas as gpd\n",
    "from shapely.geometry import Point, Polygon\n",
    "\n",
    "# Assuming the merged dataframe is named merged_df and the CT dataset is named CT\n",
    "\n",
    "# Create a GeoDataFrame from the CT dataset\n",
    "geo_tracts = gpd.GeoDataFrame(tracts, geometry='geometry')  # Use the correct geometry column\n",
    "\n",
    "# Create a GeoDataFrame from the merged_df\n",
    "geometry_points = [Point(lon, lat) for lon, lat in zip(merged_df['longitude'], merged_df['latitude'])]\n",
    "geo_merged = gpd.GeoDataFrame(merged_df, geometry=geometry_points)\n",
    "\n",
    "# Add a 'count' column to merged_df indicating the number of points inside the polygon\n",
    "merged_df['count'] = geo_merged['geometry'].within(geo_tracts['geometry']).astype(int)\n",
    "\n",
    "# Displaying the updated merged dataframe\n",
    "print(merged_df.head())\n"
   ]
  },
  {
   "cell_type": "code",
   "execution_count": null,
   "id": "3865fe59-9a07-440f-8516-9c24eaa42d70",
   "metadata": {},
   "outputs": [],
   "source": [
    "# we only really need FIPS and geometry, so let's subset the data\n",
    "tracts = tracts[['CT20','geometry']]\n",
    "tracts.head()"
   ]
  },
  {
   "cell_type": "markdown",
   "id": "f5a9a0ee-ea32-4e75-a1a1-aca83cb57fa1",
   "metadata": {},
   "source": [
    "# Distribution of city evictions "
   ]
  },
  {
   "cell_type": "code",
   "execution_count": null,
   "id": "454bce31-29ba-47fd-b6c4-01ef1617d4bd",
   "metadata": {},
   "outputs": [],
   "source": [
    "# Distribution of evictions \n",
    "import folium\n",
    "\n",
    "# Assuming you have 'tracts' and 'merged_df' with 'geometry' column\n",
    "tracts_map = folium.Map(location=[34.0522, -118.2437], zoom_start=10)  # Adjust the location and zoom as needed\n",
    "\n",
    "# Plotting tracts on the map\n",
    "folium.GeoJson(tracts, name='Tracts').add_to(tracts_map)\n",
    "\n",
    "# Creating a GeoDataFrame from 'merged_df'\n",
    "geometry_points = [Point(lon, lat) for lon, lat in zip(merged_df['longitude'], merged_df['latitude'])]\n",
    "geo_merged_df = gpd.GeoDataFrame(merged_df, geometry=geometry_points)\n",
    "\n",
    "# Filtering out rows with NaN values in 'latitude' and 'longitude'\n",
    "geo_merged_df = geo_merged_df.dropna(subset=['latitude', 'longitude'])\n",
    "\n",
    "# Plotting merged_df city value counts on the map\n",
    "for index, row in geo_merged_df.iterrows():\n",
    "    folium.CircleMarker([row['latitude'], row['longitude']], radius=row['count'] * 5, color='blue').add_to(tracts_map)\n",
    "\n",
    "# Display the map\n",
    "tracts_map"
   ]
  },
  {
   "cell_type": "code",
   "execution_count": null,
   "id": "1994b2a3-921d-4e22-89cc-56033187172b",
   "metadata": {},
   "outputs": [],
   "source": [
    "import matplotlib.pyplot as plt\n",
    "# Assuming 'merged_df' is your DataFrame\n",
    "city_counts = merged_df['City'].value_counts()\n",
    "\n",
    "# Plotting bar plot\n",
    "city_counts.plot(kind='bar', figsize=(12, 10))\n",
    "plt.title('City Counts')\n",
    "plt.xlabel('City')\n",
    "plt.ylabel('Count')\n",
    "plt.show()"
   ]
  }
 ],
 "metadata": {
  "kernelspec": {
   "display_name": "Python 3 (ipykernel)",
   "language": "python",
   "name": "python3"
  },
  "language_info": {
   "codemirror_mode": {
    "name": "ipython",
    "version": 3
   },
   "file_extension": ".py",
   "mimetype": "text/x-python",
   "name": "python",
   "nbconvert_exporter": "python",
   "pygments_lexer": "ipython3",
   "version": "3.11.7"
  }
 },
 "nbformat": 4,
 "nbformat_minor": 5
}
